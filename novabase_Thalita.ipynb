{
  "nbformat": 4,
  "nbformat_minor": 0,
  "metadata": {
    "colab": {
      "provenance": [],
      "authorship_tag": "ABX9TyPrAS0MmKlF1T28cL0NlCl5",
      "include_colab_link": true
    },
    "kernelspec": {
      "name": "python3",
      "display_name": "Python 3"
    },
    "language_info": {
      "name": "python"
    }
  },
  "cells": [
    {
      "cell_type": "markdown",
      "metadata": {
        "id": "view-in-github",
        "colab_type": "text"
      },
      "source": [
        "<a href=\"https://colab.research.google.com/github/Thataag/Projeto1PUC/blob/main/novabase_Thalita.ipynb\" target=\"_parent\"><img src=\"https://colab.research.google.com/assets/colab-badge.svg\" alt=\"Open In Colab\"/></a>"
      ]
    },
    {
      "cell_type": "code",
      "execution_count": 27,
      "metadata": {
        "colab": {
          "base_uri": "https://localhost:8080/"
        },
        "id": "r7VeBs6TrG8U",
        "outputId": "b5650de2-efd5-4677-a7f2-926fd4879b8e"
      },
      "outputs": [
        {
          "output_type": "stream",
          "name": "stdout",
          "text": [
            "Requirement already satisfied: pandas in /usr/local/lib/python3.10/dist-packages (2.0.3)\n",
            "Requirement already satisfied: python-dateutil>=2.8.2 in /usr/local/lib/python3.10/dist-packages (from pandas) (2.8.2)\n",
            "Requirement already satisfied: pytz>=2020.1 in /usr/local/lib/python3.10/dist-packages (from pandas) (2023.4)\n",
            "Requirement already satisfied: tzdata>=2022.1 in /usr/local/lib/python3.10/dist-packages (from pandas) (2024.1)\n",
            "Requirement already satisfied: numpy>=1.21.0 in /usr/local/lib/python3.10/dist-packages (from pandas) (1.25.2)\n",
            "Requirement already satisfied: six>=1.5 in /usr/local/lib/python3.10/dist-packages (from python-dateutil>=2.8.2->pandas) (1.16.0)\n"
          ]
        }
      ],
      "source": [
        "!pip install pandas"
      ]
    },
    {
      "cell_type": "markdown",
      "source": [
        "Esse foi meu primeiro contato com Machine Learning e com atividade desse tipo. Escolhi essa base pela aproximação que possui com meu trabalho.\n",
        "\n",
        "Trabalho em banco e meu dataset escolhido foi uma campanha de um Banco para oferta de um produto investimento(Depósito a prazo).\n",
        "\n",
        "Quero criar um modelo de aprendizado supervisionado para um problema de classificação binário, ou seja, um modelo que preveja quais clientes contratarão o produto.\n",
        "\n",
        "O conjunto de dados possui os seguintes atributos:\n",
        "\n",
        "age(idade),\n",
        "job(Profissão),\n",
        "marital(estado civil),\n",
        "education(nível de escolaridade),\n",
        "default(se tem crédito inadimplente),\n",
        "balance(saldo médio anual em euro),\n",
        "housing(se tem financiamento imobiliário),\n",
        "loan(se tem empréstimo pessoal),\n",
        "contact(tipo de contato),\n",
        "day(último dia de contato no mês),\n",
        "month(último mês de contato no ano),\n",
        "duration(duração do último contato em segundos),\n",
        "campaign(número de contatos realizados durante esta campanha para cada cliente),\n",
        "pdays(número de dias que se passaram desde que o cliente foi contatado pela última vez em uma campanha anterior),\n",
        "previous(número de contatos realizados antes desta campanha e para cada cliente),\n",
        "poutcome(resultado da campanha de marketing anterior),\n",
        "e deposit(se o cliente contratou o produto ou não).\n",
        "\n",
        "\n"
      ],
      "metadata": {
        "id": "49fRAFiTeLC4"
      }
    },
    {
      "cell_type": "code",
      "source": [
        "# Primeiramente, carregando o conjunto de dados. Importando bibliotecas.\n",
        "import pandas as pd\n",
        "import numpy as np\n",
        "\n",
        "# Importando visualização padrão.\n",
        "import matplotlib.pyplot as plt\n",
        "import seaborn as sns"
      ],
      "metadata": {
        "id": "WVpj01xJrRrx"
      },
      "execution_count": 28,
      "outputs": []
    },
    {
      "cell_type": "markdown",
      "source": [
        "Carregando dataset através de um arquivo que chamei de \"arquivo\".\n",
        "\n",
        "Quero ao final, que o modelo prediga quem irá contratar o produto investimento ofertado pelo banco na campanha de marketing( clientes que subscreverão depósitos à prazo).\n",
        "\n",
        "Para ficar mais claro, renomeei a coluna \"deposit\" que passará a se chamar \"contracted\".\n"
      ],
      "metadata": {
        "id": "cXaE61Tcpow9"
      }
    },
    {
      "cell_type": "code",
      "source": [
        "# Dataset \"arquivo\".\n",
        "arquivo = pd.read_csv('https://raw.githubusercontent.com/Thataag/Projeto1PUC/main/base/bank.csv')\n",
        "\n",
        "arquivo = arquivo.rename(columns={'deposit': 'contracted'})\n",
        "\n",
        "# Verificando como ficou.\n",
        "\n",
        "arquivo.head()\n"
      ],
      "metadata": {
        "colab": {
          "base_uri": "https://localhost:8080/",
          "height": 206
        },
        "outputId": "70bd4a2e-e11c-455e-ff0a-2f347f4dfab4",
        "id": "v4LXN8x-wCD2"
      },
      "execution_count": 29,
      "outputs": [
        {
          "output_type": "execute_result",
          "data": {
            "text/plain": [
              "   age         job  marital  education default  balance housing loan  contact  \\\n",
              "0   59      admin.  married  secondary      no     2343     yes   no  unknown   \n",
              "1   56      admin.  married  secondary      no       45      no   no  unknown   \n",
              "2   41  technician  married  secondary      no     1270     yes   no  unknown   \n",
              "3   55    services  married  secondary      no     2476     yes   no  unknown   \n",
              "4   54      admin.  married   tertiary      no      184      no   no  unknown   \n",
              "\n",
              "   day month  duration  campaign  pdays  previous poutcome contracted  \n",
              "0    5   may      1042         1     -1         0  unknown        yes  \n",
              "1    5   may      1467         1     -1         0  unknown        yes  \n",
              "2    5   may      1389         1     -1         0  unknown        yes  \n",
              "3    5   may       579         1     -1         0  unknown        yes  \n",
              "4    5   may       673         2     -1         0  unknown        yes  "
            ],
            "text/html": [
              "\n",
              "  <div id=\"df-e25686e7-2988-4abd-8d71-565ab9e6ac3f\" class=\"colab-df-container\">\n",
              "    <div>\n",
              "<style scoped>\n",
              "    .dataframe tbody tr th:only-of-type {\n",
              "        vertical-align: middle;\n",
              "    }\n",
              "\n",
              "    .dataframe tbody tr th {\n",
              "        vertical-align: top;\n",
              "    }\n",
              "\n",
              "    .dataframe thead th {\n",
              "        text-align: right;\n",
              "    }\n",
              "</style>\n",
              "<table border=\"1\" class=\"dataframe\">\n",
              "  <thead>\n",
              "    <tr style=\"text-align: right;\">\n",
              "      <th></th>\n",
              "      <th>age</th>\n",
              "      <th>job</th>\n",
              "      <th>marital</th>\n",
              "      <th>education</th>\n",
              "      <th>default</th>\n",
              "      <th>balance</th>\n",
              "      <th>housing</th>\n",
              "      <th>loan</th>\n",
              "      <th>contact</th>\n",
              "      <th>day</th>\n",
              "      <th>month</th>\n",
              "      <th>duration</th>\n",
              "      <th>campaign</th>\n",
              "      <th>pdays</th>\n",
              "      <th>previous</th>\n",
              "      <th>poutcome</th>\n",
              "      <th>contracted</th>\n",
              "    </tr>\n",
              "  </thead>\n",
              "  <tbody>\n",
              "    <tr>\n",
              "      <th>0</th>\n",
              "      <td>59</td>\n",
              "      <td>admin.</td>\n",
              "      <td>married</td>\n",
              "      <td>secondary</td>\n",
              "      <td>no</td>\n",
              "      <td>2343</td>\n",
              "      <td>yes</td>\n",
              "      <td>no</td>\n",
              "      <td>unknown</td>\n",
              "      <td>5</td>\n",
              "      <td>may</td>\n",
              "      <td>1042</td>\n",
              "      <td>1</td>\n",
              "      <td>-1</td>\n",
              "      <td>0</td>\n",
              "      <td>unknown</td>\n",
              "      <td>yes</td>\n",
              "    </tr>\n",
              "    <tr>\n",
              "      <th>1</th>\n",
              "      <td>56</td>\n",
              "      <td>admin.</td>\n",
              "      <td>married</td>\n",
              "      <td>secondary</td>\n",
              "      <td>no</td>\n",
              "      <td>45</td>\n",
              "      <td>no</td>\n",
              "      <td>no</td>\n",
              "      <td>unknown</td>\n",
              "      <td>5</td>\n",
              "      <td>may</td>\n",
              "      <td>1467</td>\n",
              "      <td>1</td>\n",
              "      <td>-1</td>\n",
              "      <td>0</td>\n",
              "      <td>unknown</td>\n",
              "      <td>yes</td>\n",
              "    </tr>\n",
              "    <tr>\n",
              "      <th>2</th>\n",
              "      <td>41</td>\n",
              "      <td>technician</td>\n",
              "      <td>married</td>\n",
              "      <td>secondary</td>\n",
              "      <td>no</td>\n",
              "      <td>1270</td>\n",
              "      <td>yes</td>\n",
              "      <td>no</td>\n",
              "      <td>unknown</td>\n",
              "      <td>5</td>\n",
              "      <td>may</td>\n",
              "      <td>1389</td>\n",
              "      <td>1</td>\n",
              "      <td>-1</td>\n",
              "      <td>0</td>\n",
              "      <td>unknown</td>\n",
              "      <td>yes</td>\n",
              "    </tr>\n",
              "    <tr>\n",
              "      <th>3</th>\n",
              "      <td>55</td>\n",
              "      <td>services</td>\n",
              "      <td>married</td>\n",
              "      <td>secondary</td>\n",
              "      <td>no</td>\n",
              "      <td>2476</td>\n",
              "      <td>yes</td>\n",
              "      <td>no</td>\n",
              "      <td>unknown</td>\n",
              "      <td>5</td>\n",
              "      <td>may</td>\n",
              "      <td>579</td>\n",
              "      <td>1</td>\n",
              "      <td>-1</td>\n",
              "      <td>0</td>\n",
              "      <td>unknown</td>\n",
              "      <td>yes</td>\n",
              "    </tr>\n",
              "    <tr>\n",
              "      <th>4</th>\n",
              "      <td>54</td>\n",
              "      <td>admin.</td>\n",
              "      <td>married</td>\n",
              "      <td>tertiary</td>\n",
              "      <td>no</td>\n",
              "      <td>184</td>\n",
              "      <td>no</td>\n",
              "      <td>no</td>\n",
              "      <td>unknown</td>\n",
              "      <td>5</td>\n",
              "      <td>may</td>\n",
              "      <td>673</td>\n",
              "      <td>2</td>\n",
              "      <td>-1</td>\n",
              "      <td>0</td>\n",
              "      <td>unknown</td>\n",
              "      <td>yes</td>\n",
              "    </tr>\n",
              "  </tbody>\n",
              "</table>\n",
              "</div>\n",
              "    <div class=\"colab-df-buttons\">\n",
              "\n",
              "  <div class=\"colab-df-container\">\n",
              "    <button class=\"colab-df-convert\" onclick=\"convertToInteractive('df-e25686e7-2988-4abd-8d71-565ab9e6ac3f')\"\n",
              "            title=\"Convert this dataframe to an interactive table.\"\n",
              "            style=\"display:none;\">\n",
              "\n",
              "  <svg xmlns=\"http://www.w3.org/2000/svg\" height=\"24px\" viewBox=\"0 -960 960 960\">\n",
              "    <path d=\"M120-120v-720h720v720H120Zm60-500h600v-160H180v160Zm220 220h160v-160H400v160Zm0 220h160v-160H400v160ZM180-400h160v-160H180v160Zm440 0h160v-160H620v160ZM180-180h160v-160H180v160Zm440 0h160v-160H620v160Z\"/>\n",
              "  </svg>\n",
              "    </button>\n",
              "\n",
              "  <style>\n",
              "    .colab-df-container {\n",
              "      display:flex;\n",
              "      gap: 12px;\n",
              "    }\n",
              "\n",
              "    .colab-df-convert {\n",
              "      background-color: #E8F0FE;\n",
              "      border: none;\n",
              "      border-radius: 50%;\n",
              "      cursor: pointer;\n",
              "      display: none;\n",
              "      fill: #1967D2;\n",
              "      height: 32px;\n",
              "      padding: 0 0 0 0;\n",
              "      width: 32px;\n",
              "    }\n",
              "\n",
              "    .colab-df-convert:hover {\n",
              "      background-color: #E2EBFA;\n",
              "      box-shadow: 0px 1px 2px rgba(60, 64, 67, 0.3), 0px 1px 3px 1px rgba(60, 64, 67, 0.15);\n",
              "      fill: #174EA6;\n",
              "    }\n",
              "\n",
              "    .colab-df-buttons div {\n",
              "      margin-bottom: 4px;\n",
              "    }\n",
              "\n",
              "    [theme=dark] .colab-df-convert {\n",
              "      background-color: #3B4455;\n",
              "      fill: #D2E3FC;\n",
              "    }\n",
              "\n",
              "    [theme=dark] .colab-df-convert:hover {\n",
              "      background-color: #434B5C;\n",
              "      box-shadow: 0px 1px 3px 1px rgba(0, 0, 0, 0.15);\n",
              "      filter: drop-shadow(0px 1px 2px rgba(0, 0, 0, 0.3));\n",
              "      fill: #FFFFFF;\n",
              "    }\n",
              "  </style>\n",
              "\n",
              "    <script>\n",
              "      const buttonEl =\n",
              "        document.querySelector('#df-e25686e7-2988-4abd-8d71-565ab9e6ac3f button.colab-df-convert');\n",
              "      buttonEl.style.display =\n",
              "        google.colab.kernel.accessAllowed ? 'block' : 'none';\n",
              "\n",
              "      async function convertToInteractive(key) {\n",
              "        const element = document.querySelector('#df-e25686e7-2988-4abd-8d71-565ab9e6ac3f');\n",
              "        const dataTable =\n",
              "          await google.colab.kernel.invokeFunction('convertToInteractive',\n",
              "                                                    [key], {});\n",
              "        if (!dataTable) return;\n",
              "\n",
              "        const docLinkHtml = 'Like what you see? Visit the ' +\n",
              "          '<a target=\"_blank\" href=https://colab.research.google.com/notebooks/data_table.ipynb>data table notebook</a>'\n",
              "          + ' to learn more about interactive tables.';\n",
              "        element.innerHTML = '';\n",
              "        dataTable['output_type'] = 'display_data';\n",
              "        await google.colab.output.renderOutput(dataTable, element);\n",
              "        const docLink = document.createElement('div');\n",
              "        docLink.innerHTML = docLinkHtml;\n",
              "        element.appendChild(docLink);\n",
              "      }\n",
              "    </script>\n",
              "  </div>\n",
              "\n",
              "\n",
              "<div id=\"df-038a22c3-e363-4cdd-b39f-149c85c05633\">\n",
              "  <button class=\"colab-df-quickchart\" onclick=\"quickchart('df-038a22c3-e363-4cdd-b39f-149c85c05633')\"\n",
              "            title=\"Suggest charts\"\n",
              "            style=\"display:none;\">\n",
              "\n",
              "<svg xmlns=\"http://www.w3.org/2000/svg\" height=\"24px\"viewBox=\"0 0 24 24\"\n",
              "     width=\"24px\">\n",
              "    <g>\n",
              "        <path d=\"M19 3H5c-1.1 0-2 .9-2 2v14c0 1.1.9 2 2 2h14c1.1 0 2-.9 2-2V5c0-1.1-.9-2-2-2zM9 17H7v-7h2v7zm4 0h-2V7h2v10zm4 0h-2v-4h2v4z\"/>\n",
              "    </g>\n",
              "</svg>\n",
              "  </button>\n",
              "\n",
              "<style>\n",
              "  .colab-df-quickchart {\n",
              "      --bg-color: #E8F0FE;\n",
              "      --fill-color: #1967D2;\n",
              "      --hover-bg-color: #E2EBFA;\n",
              "      --hover-fill-color: #174EA6;\n",
              "      --disabled-fill-color: #AAA;\n",
              "      --disabled-bg-color: #DDD;\n",
              "  }\n",
              "\n",
              "  [theme=dark] .colab-df-quickchart {\n",
              "      --bg-color: #3B4455;\n",
              "      --fill-color: #D2E3FC;\n",
              "      --hover-bg-color: #434B5C;\n",
              "      --hover-fill-color: #FFFFFF;\n",
              "      --disabled-bg-color: #3B4455;\n",
              "      --disabled-fill-color: #666;\n",
              "  }\n",
              "\n",
              "  .colab-df-quickchart {\n",
              "    background-color: var(--bg-color);\n",
              "    border: none;\n",
              "    border-radius: 50%;\n",
              "    cursor: pointer;\n",
              "    display: none;\n",
              "    fill: var(--fill-color);\n",
              "    height: 32px;\n",
              "    padding: 0;\n",
              "    width: 32px;\n",
              "  }\n",
              "\n",
              "  .colab-df-quickchart:hover {\n",
              "    background-color: var(--hover-bg-color);\n",
              "    box-shadow: 0 1px 2px rgba(60, 64, 67, 0.3), 0 1px 3px 1px rgba(60, 64, 67, 0.15);\n",
              "    fill: var(--button-hover-fill-color);\n",
              "  }\n",
              "\n",
              "  .colab-df-quickchart-complete:disabled,\n",
              "  .colab-df-quickchart-complete:disabled:hover {\n",
              "    background-color: var(--disabled-bg-color);\n",
              "    fill: var(--disabled-fill-color);\n",
              "    box-shadow: none;\n",
              "  }\n",
              "\n",
              "  .colab-df-spinner {\n",
              "    border: 2px solid var(--fill-color);\n",
              "    border-color: transparent;\n",
              "    border-bottom-color: var(--fill-color);\n",
              "    animation:\n",
              "      spin 1s steps(1) infinite;\n",
              "  }\n",
              "\n",
              "  @keyframes spin {\n",
              "    0% {\n",
              "      border-color: transparent;\n",
              "      border-bottom-color: var(--fill-color);\n",
              "      border-left-color: var(--fill-color);\n",
              "    }\n",
              "    20% {\n",
              "      border-color: transparent;\n",
              "      border-left-color: var(--fill-color);\n",
              "      border-top-color: var(--fill-color);\n",
              "    }\n",
              "    30% {\n",
              "      border-color: transparent;\n",
              "      border-left-color: var(--fill-color);\n",
              "      border-top-color: var(--fill-color);\n",
              "      border-right-color: var(--fill-color);\n",
              "    }\n",
              "    40% {\n",
              "      border-color: transparent;\n",
              "      border-right-color: var(--fill-color);\n",
              "      border-top-color: var(--fill-color);\n",
              "    }\n",
              "    60% {\n",
              "      border-color: transparent;\n",
              "      border-right-color: var(--fill-color);\n",
              "    }\n",
              "    80% {\n",
              "      border-color: transparent;\n",
              "      border-right-color: var(--fill-color);\n",
              "      border-bottom-color: var(--fill-color);\n",
              "    }\n",
              "    90% {\n",
              "      border-color: transparent;\n",
              "      border-bottom-color: var(--fill-color);\n",
              "    }\n",
              "  }\n",
              "</style>\n",
              "\n",
              "  <script>\n",
              "    async function quickchart(key) {\n",
              "      const quickchartButtonEl =\n",
              "        document.querySelector('#' + key + ' button');\n",
              "      quickchartButtonEl.disabled = true;  // To prevent multiple clicks.\n",
              "      quickchartButtonEl.classList.add('colab-df-spinner');\n",
              "      try {\n",
              "        const charts = await google.colab.kernel.invokeFunction(\n",
              "            'suggestCharts', [key], {});\n",
              "      } catch (error) {\n",
              "        console.error('Error during call to suggestCharts:', error);\n",
              "      }\n",
              "      quickchartButtonEl.classList.remove('colab-df-spinner');\n",
              "      quickchartButtonEl.classList.add('colab-df-quickchart-complete');\n",
              "    }\n",
              "    (() => {\n",
              "      let quickchartButtonEl =\n",
              "        document.querySelector('#df-038a22c3-e363-4cdd-b39f-149c85c05633 button');\n",
              "      quickchartButtonEl.style.display =\n",
              "        google.colab.kernel.accessAllowed ? 'block' : 'none';\n",
              "    })();\n",
              "  </script>\n",
              "</div>\n",
              "\n",
              "    </div>\n",
              "  </div>\n"
            ],
            "application/vnd.google.colaboratory.intrinsic+json": {
              "type": "dataframe",
              "variable_name": "arquivo",
              "summary": "{\n  \"name\": \"arquivo\",\n  \"rows\": 11162,\n  \"fields\": [\n    {\n      \"column\": \"age\",\n      \"properties\": {\n        \"dtype\": \"number\",\n        \"std\": 11,\n        \"min\": 18,\n        \"max\": 95,\n        \"num_unique_values\": 76,\n        \"samples\": [\n          54,\n          47,\n          30\n        ],\n        \"semantic_type\": \"\",\n        \"description\": \"\"\n      }\n    },\n    {\n      \"column\": \"job\",\n      \"properties\": {\n        \"dtype\": \"category\",\n        \"num_unique_values\": 12,\n        \"samples\": [\n          \"self-employed\",\n          \"unknown\",\n          \"admin.\"\n        ],\n        \"semantic_type\": \"\",\n        \"description\": \"\"\n      }\n    },\n    {\n      \"column\": \"marital\",\n      \"properties\": {\n        \"dtype\": \"category\",\n        \"num_unique_values\": 3,\n        \"samples\": [\n          \"married\",\n          \"single\",\n          \"divorced\"\n        ],\n        \"semantic_type\": \"\",\n        \"description\": \"\"\n      }\n    },\n    {\n      \"column\": \"education\",\n      \"properties\": {\n        \"dtype\": \"category\",\n        \"num_unique_values\": 4,\n        \"samples\": [\n          \"tertiary\",\n          \"unknown\",\n          \"secondary\"\n        ],\n        \"semantic_type\": \"\",\n        \"description\": \"\"\n      }\n    },\n    {\n      \"column\": \"default\",\n      \"properties\": {\n        \"dtype\": \"category\",\n        \"num_unique_values\": 2,\n        \"samples\": [\n          \"yes\",\n          \"no\"\n        ],\n        \"semantic_type\": \"\",\n        \"description\": \"\"\n      }\n    },\n    {\n      \"column\": \"balance\",\n      \"properties\": {\n        \"dtype\": \"number\",\n        \"std\": 3225,\n        \"min\": -6847,\n        \"max\": 81204,\n        \"num_unique_values\": 3805,\n        \"samples\": [\n          3026,\n          1792\n        ],\n        \"semantic_type\": \"\",\n        \"description\": \"\"\n      }\n    },\n    {\n      \"column\": \"housing\",\n      \"properties\": {\n        \"dtype\": \"category\",\n        \"num_unique_values\": 2,\n        \"samples\": [\n          \"no\",\n          \"yes\"\n        ],\n        \"semantic_type\": \"\",\n        \"description\": \"\"\n      }\n    },\n    {\n      \"column\": \"loan\",\n      \"properties\": {\n        \"dtype\": \"category\",\n        \"num_unique_values\": 2,\n        \"samples\": [\n          \"yes\",\n          \"no\"\n        ],\n        \"semantic_type\": \"\",\n        \"description\": \"\"\n      }\n    },\n    {\n      \"column\": \"contact\",\n      \"properties\": {\n        \"dtype\": \"category\",\n        \"num_unique_values\": 3,\n        \"samples\": [\n          \"unknown\",\n          \"cellular\"\n        ],\n        \"semantic_type\": \"\",\n        \"description\": \"\"\n      }\n    },\n    {\n      \"column\": \"day\",\n      \"properties\": {\n        \"dtype\": \"number\",\n        \"std\": 8,\n        \"min\": 1,\n        \"max\": 31,\n        \"num_unique_values\": 31,\n        \"samples\": [\n          10,\n          27\n        ],\n        \"semantic_type\": \"\",\n        \"description\": \"\"\n      }\n    },\n    {\n      \"column\": \"month\",\n      \"properties\": {\n        \"dtype\": \"category\",\n        \"num_unique_values\": 12,\n        \"samples\": [\n          \"apr\",\n          \"mar\"\n        ],\n        \"semantic_type\": \"\",\n        \"description\": \"\"\n      }\n    },\n    {\n      \"column\": \"duration\",\n      \"properties\": {\n        \"dtype\": \"number\",\n        \"std\": 347,\n        \"min\": 2,\n        \"max\": 3881,\n        \"num_unique_values\": 1428,\n        \"samples\": [\n          597,\n          346\n        ],\n        \"semantic_type\": \"\",\n        \"description\": \"\"\n      }\n    },\n    {\n      \"column\": \"campaign\",\n      \"properties\": {\n        \"dtype\": \"number\",\n        \"std\": 2,\n        \"min\": 1,\n        \"max\": 63,\n        \"num_unique_values\": 36,\n        \"samples\": [\n          31,\n          7\n        ],\n        \"semantic_type\": \"\",\n        \"description\": \"\"\n      }\n    },\n    {\n      \"column\": \"pdays\",\n      \"properties\": {\n        \"dtype\": \"number\",\n        \"std\": 108,\n        \"min\": -1,\n        \"max\": 854,\n        \"num_unique_values\": 472,\n        \"samples\": [\n          294,\n          148\n        ],\n        \"semantic_type\": \"\",\n        \"description\": \"\"\n      }\n    },\n    {\n      \"column\": \"previous\",\n      \"properties\": {\n        \"dtype\": \"number\",\n        \"std\": 2,\n        \"min\": 0,\n        \"max\": 58,\n        \"num_unique_values\": 34,\n        \"samples\": [\n          30,\n          14\n        ],\n        \"semantic_type\": \"\",\n        \"description\": \"\"\n      }\n    },\n    {\n      \"column\": \"poutcome\",\n      \"properties\": {\n        \"dtype\": \"category\",\n        \"num_unique_values\": 4,\n        \"samples\": [\n          \"other\",\n          \"success\"\n        ],\n        \"semantic_type\": \"\",\n        \"description\": \"\"\n      }\n    },\n    {\n      \"column\": \"contracted\",\n      \"properties\": {\n        \"dtype\": \"category\",\n        \"num_unique_values\": 2,\n        \"samples\": [\n          \"no\",\n          \"yes\"\n        ],\n        \"semantic_type\": \"\",\n        \"description\": \"\"\n      }\n    }\n  ]\n}"
            }
          },
          "metadata": {},
          "execution_count": 29
        }
      ]
    },
    {
      "cell_type": "code",
      "source": [
        "# Consultando para ver se a base possui algum registro em branco. Como não possui, seguirei para análise dos atributos na sequência.\n",
        "\n",
        "missing_values = arquivo.isnull().mean()*100\n",
        "\n",
        "missing_values.sum()"
      ],
      "metadata": {
        "colab": {
          "base_uri": "https://localhost:8080/"
        },
        "id": "3K5jcqj1s1ko",
        "outputId": "72967d27-a8f3-43bb-b018-db80f7442e3c"
      },
      "execution_count": 30,
      "outputs": [
        {
          "output_type": "execute_result",
          "data": {
            "text/plain": [
              "0.0"
            ]
          },
          "metadata": {},
          "execution_count": 30
        }
      ]
    },
    {
      "cell_type": "markdown",
      "source": [
        "Minha base possui colunas categóricas e numéricas. Vou analisar primeiramente as colunas categóricas gerando gráficos para melhor interpretação."
      ],
      "metadata": {
        "id": "UFFcN4WGpPP7"
      }
    },
    {
      "cell_type": "code",
      "source": [
        "# Discriminando colunas categóricas.\n",
        "\n",
        "cat_columns = ['job', 'marital', 'education', 'default', 'housing', 'loan', 'contact', 'month', 'poutcome']\n",
        "\n",
        "# Configurando os gráficos.\n",
        "\n",
        "fig, axs = plt.subplots(3, 3, sharex=False, sharey=False, figsize=(20, 15))\n",
        "\n",
        "counter = 0\n",
        "for cat_column in cat_columns:\n",
        "    value_counts = arquivo[cat_column].value_counts()\n",
        "\n",
        "    trace_x = counter // 3\n",
        "    trace_y = counter % 3\n",
        "    x_pos = np.arange(0, len(value_counts))\n",
        "\n",
        "    axs[trace_x, trace_y].bar(x_pos, value_counts.values, tick_label = value_counts.index)\n",
        "\n",
        "    axs[trace_x, trace_y].set_title(cat_column)\n",
        "\n",
        "    for tick in axs[trace_x, trace_y].get_xticklabels():\n",
        "        tick.set_rotation(90)\n",
        "\n",
        "    counter += 1\n",
        "\n",
        "plt.show()"
      ],
      "metadata": {
        "colab": {
          "base_uri": "https://localhost:8080/",
          "height": 1000
        },
        "id": "fLDmTw4ItFFI",
        "outputId": "af8673fb-f387-4864-d144-a29484fbb66c"
      },
      "execution_count": 31,
      "outputs": [
        {
          "output_type": "display_data",
          "data": {
            "text/plain": [
              "<Figure size 2000x1500 with 9 Axes>"
            ],
            "image/png": "[encoded data removed]"
          },
          "metadata": {}
        }
      ]
    },
    {
      "cell_type": "code",
      "source": [
        "# Analisando as colunas numéricas por meio de histogramas.\n",
        "\n",
        "num_columns = ['age','balance','day', 'duration','campaign','pdays', 'previous']\n",
        "\n",
        "fig, axs = plt.subplots(2, 3, sharex=False, sharey=False, figsize=(15, 10))\n",
        "\n",
        "counter = 0\n",
        "for num_column in num_columns:\n",
        "\n",
        "    trace_x = counter // 3\n",
        "    if trace_x > 1:\n",
        "        trace_x = 1\n",
        "    trace_y = counter % 3\n",
        "\n",
        "    axs[trace_x, trace_y].hist(arquivo[num_column])\n",
        "\n",
        "    axs[trace_x, trace_y].set_title(num_column)\n",
        "\n",
        "    counter += 1\n",
        "\n",
        "plt.show()"
      ],
      "metadata": {
        "colab": {
          "base_uri": "https://localhost:8080/",
          "height": 853
        },
        "id": "cDOY3PuVtz7H",
        "outputId": "0b7fb06f-c537-4e0c-8c13-f91629ff2b0c"
      },
      "execution_count": 32,
      "outputs": [
        {
          "output_type": "display_data",
          "data": {
            "text/plain": [
              "<Figure size 1500x1000 with 6 Axes>"
            ],
            "image/png": "[encoded data removed]"
          },
          "metadata": {}
        }
      ]
    },
    {
      "cell_type": "code",
      "source": [
        "# Analisando as colunas 'campaign'e 'previous'. Possuem muita discrepância.\n",
        "\n",
        "arquivo[['campaign', 'previous']].describe()"
      ],
      "metadata": {
        "colab": {
          "base_uri": "https://localhost:8080/",
          "height": 300
        },
        "id": "kWBFTBGeurtO",
        "outputId": "e420b187-28fe-47be-82e2-5aedfa24bed0"
      },
      "execution_count": 33,
      "outputs": [
        {
          "output_type": "execute_result",
          "data": {
            "text/plain": [
              "           campaign      previous\n",
              "count  11162.000000  11162.000000\n",
              "mean       2.508421      0.832557\n",
              "std        2.722077      2.292007\n",
              "min        1.000000      0.000000\n",
              "25%        1.000000      0.000000\n",
              "50%        2.000000      0.000000\n",
              "75%        3.000000      1.000000\n",
              "max       63.000000     58.000000"
            ],
            "text/html": [
              "\n",
              "  <div id=\"df-2211321e-1e2b-4fc5-b5f9-c58f5588fcaa\" class=\"colab-df-container\">\n",
              "    <div>\n",
              "<style scoped>\n",
              "    .dataframe tbody tr th:only-of-type {\n",
              "        vertical-align: middle;\n",
              "    }\n",
              "\n",
              "    .dataframe tbody tr th {\n",
              "        vertical-align: top;\n",
              "    }\n",
              "\n",
              "    .dataframe thead th {\n",
              "        text-align: right;\n",
              "    }\n",
              "</style>\n",
              "<table border=\"1\" class=\"dataframe\">\n",
              "  <thead>\n",
              "    <tr style=\"text-align: right;\">\n",
              "      <th></th>\n",
              "      <th>campaign</th>\n",
              "      <th>previous</th>\n",
              "    </tr>\n",
              "  </thead>\n",
              "  <tbody>\n",
              "    <tr>\n",
              "      <th>count</th>\n",
              "      <td>11162.000000</td>\n",
              "      <td>11162.000000</td>\n",
              "    </tr>\n",
              "    <tr>\n",
              "      <th>mean</th>\n",
              "      <td>2.508421</td>\n",
              "      <td>0.832557</td>\n",
              "    </tr>\n",
              "    <tr>\n",
              "      <th>std</th>\n",
              "      <td>2.722077</td>\n",
              "      <td>2.292007</td>\n",
              "    </tr>\n",
              "    <tr>\n",
              "      <th>min</th>\n",
              "      <td>1.000000</td>\n",
              "      <td>0.000000</td>\n",
              "    </tr>\n",
              "    <tr>\n",
              "      <th>25%</th>\n",
              "      <td>1.000000</td>\n",
              "      <td>0.000000</td>\n",
              "    </tr>\n",
              "    <tr>\n",
              "      <th>50%</th>\n",
              "      <td>2.000000</td>\n",
              "      <td>0.000000</td>\n",
              "    </tr>\n",
              "    <tr>\n",
              "      <th>75%</th>\n",
              "      <td>3.000000</td>\n",
              "      <td>1.000000</td>\n",
              "    </tr>\n",
              "    <tr>\n",
              "      <th>max</th>\n",
              "      <td>63.000000</td>\n",
              "      <td>58.000000</td>\n",
              "    </tr>\n",
              "  </tbody>\n",
              "</table>\n",
              "</div>\n",
              "    <div class=\"colab-df-buttons\">\n",
              "\n",
              "  <div class=\"colab-df-container\">\n",
              "    <button class=\"colab-df-convert\" onclick=\"convertToInteractive('df-2211321e-1e2b-4fc5-b5f9-c58f5588fcaa')\"\n",
              "            title=\"Convert this dataframe to an interactive table.\"\n",
              "            style=\"display:none;\">\n",
              "\n",
              "  <svg xmlns=\"http://www.w3.org/2000/svg\" height=\"24px\" viewBox=\"0 -960 960 960\">\n",
              "    <path d=\"M120-120v-720h720v720H120Zm60-500h600v-160H180v160Zm220 220h160v-160H400v160Zm0 220h160v-160H400v160ZM180-400h160v-160H180v160Zm440 0h160v-160H620v160ZM180-180h160v-160H180v160Zm440 0h160v-160H620v160Z\"/>\n",
              "  </svg>\n",
              "    </button>\n",
              "\n",
              "  <style>\n",
              "    .colab-df-container {\n",
              "      display:flex;\n",
              "      gap: 12px;\n",
              "    }\n",
              "\n",
              "    .colab-df-convert {\n",
              "      background-color: #E8F0FE;\n",
              "      border: none;\n",
              "      border-radius: 50%;\n",
              "      cursor: pointer;\n",
              "      display: none;\n",
              "      fill: #1967D2;\n",
              "      height: 32px;\n",
              "      padding: 0 0 0 0;\n",
              "      width: 32px;\n",
              "    }\n",
              "\n",
              "    .colab-df-convert:hover {\n",
              "      background-color: #E2EBFA;\n",
              "      box-shadow: 0px 1px 2px rgba(60, 64, 67, 0.3), 0px 1px 3px 1px rgba(60, 64, 67, 0.15);\n",
              "      fill: #174EA6;\n",
              "    }\n",
              "\n",
              "    .colab-df-buttons div {\n",
              "      margin-bottom: 4px;\n",
              "    }\n",
              "\n",
              "    [theme=dark] .colab-df-convert {\n",
              "      background-color: #3B4455;\n",
              "      fill: #D2E3FC;\n",
              "    }\n",
              "\n",
              "    [theme=dark] .colab-df-convert:hover {\n",
              "      background-color: #434B5C;\n",
              "      box-shadow: 0px 1px 3px 1px rgba(0, 0, 0, 0.15);\n",
              "      filter: drop-shadow(0px 1px 2px rgba(0, 0, 0, 0.3));\n",
              "      fill: #FFFFFF;\n",
              "    }\n",
              "  </style>\n",
              "\n",
              "    <script>\n",
              "      const buttonEl =\n",
              "        document.querySelector('#df-2211321e-1e2b-4fc5-b5f9-c58f5588fcaa button.colab-df-convert');\n",
              "      buttonEl.style.display =\n",
              "        google.colab.kernel.accessAllowed ? 'block' : 'none';\n",
              "\n",
              "      async function convertToInteractive(key) {\n",
              "        const element = document.querySelector('#df-2211321e-1e2b-4fc5-b5f9-c58f5588fcaa');\n",
              "        const dataTable =\n",
              "          await google.colab.kernel.invokeFunction('convertToInteractive',\n",
              "                                                    [key], {});\n",
              "        if (!dataTable) return;\n",
              "\n",
              "        const docLinkHtml = 'Like what you see? Visit the ' +\n",
              "          '<a target=\"_blank\" href=https://colab.research.google.com/notebooks/data_table.ipynb>data table notebook</a>'\n",
              "          + ' to learn more about interactive tables.';\n",
              "        element.innerHTML = '';\n",
              "        dataTable['output_type'] = 'display_data';\n",
              "        await google.colab.output.renderOutput(dataTable, element);\n",
              "        const docLink = document.createElement('div');\n",
              "        docLink.innerHTML = docLinkHtml;\n",
              "        element.appendChild(docLink);\n",
              "      }\n",
              "    </script>\n",
              "  </div>\n",
              "\n",
              "\n",
              "<div id=\"df-93f6c3aa-32ec-4bde-a774-6d03aa79544e\">\n",
              "  <button class=\"colab-df-quickchart\" onclick=\"quickchart('df-93f6c3aa-32ec-4bde-a774-6d03aa79544e')\"\n",
              "            title=\"Suggest charts\"\n",
              "            style=\"display:none;\">\n",
              "\n",
              "<svg xmlns=\"http://www.w3.org/2000/svg\" height=\"24px\"viewBox=\"0 0 24 24\"\n",
              "     width=\"24px\">\n",
              "    <g>\n",
              "        <path d=\"M19 3H5c-1.1 0-2 .9-2 2v14c0 1.1.9 2 2 2h14c1.1 0 2-.9 2-2V5c0-1.1-.9-2-2-2zM9 17H7v-7h2v7zm4 0h-2V7h2v10zm4 0h-2v-4h2v4z\"/>\n",
              "    </g>\n",
              "</svg>\n",
              "  </button>\n",
              "\n",
              "<style>\n",
              "  .colab-df-quickchart {\n",
              "      --bg-color: #E8F0FE;\n",
              "      --fill-color: #1967D2;\n",
              "      --hover-bg-color: #E2EBFA;\n",
              "      --hover-fill-color: #174EA6;\n",
              "      --disabled-fill-color: #AAA;\n",
              "      --disabled-bg-color: #DDD;\n",
              "  }\n",
              "\n",
              "  [theme=dark] .colab-df-quickchart {\n",
              "      --bg-color: #3B4455;\n",
              "      --fill-color: #D2E3FC;\n",
              "      --hover-bg-color: #434B5C;\n",
              "      --hover-fill-color: #FFFFFF;\n",
              "      --disabled-bg-color: #3B4455;\n",
              "      --disabled-fill-color: #666;\n",
              "  }\n",
              "\n",
              "  .colab-df-quickchart {\n",
              "    background-color: var(--bg-color);\n",
              "    border: none;\n",
              "    border-radius: 50%;\n",
              "    cursor: pointer;\n",
              "    display: none;\n",
              "    fill: var(--fill-color);\n",
              "    height: 32px;\n",
              "    padding: 0;\n",
              "    width: 32px;\n",
              "  }\n",
              "\n",
              "  .colab-df-quickchart:hover {\n",
              "    background-color: var(--hover-bg-color);\n",
              "    box-shadow: 0 1px 2px rgba(60, 64, 67, 0.3), 0 1px 3px 1px rgba(60, 64, 67, 0.15);\n",
              "    fill: var(--button-hover-fill-color);\n",
              "  }\n",
              "\n",
              "  .colab-df-quickchart-complete:disabled,\n",
              "  .colab-df-quickchart-complete:disabled:hover {\n",
              "    background-color: var(--disabled-bg-color);\n",
              "    fill: var(--disabled-fill-color);\n",
              "    box-shadow: none;\n",
              "  }\n",
              "\n",
              "  .colab-df-spinner {\n",
              "    border: 2px solid var(--fill-color);\n",
              "    border-color: transparent;\n",
              "    border-bottom-color: var(--fill-color);\n",
              "    animation:\n",
              "      spin 1s steps(1) infinite;\n",
              "  }\n",
              "\n",
              "  @keyframes spin {\n",
              "    0% {\n",
              "      border-color: transparent;\n",
              "      border-bottom-color: var(--fill-color);\n",
              "      border-left-color: var(--fill-color);\n",
              "    }\n",
              "    20% {\n",
              "      border-color: transparent;\n",
              "      border-left-color: var(--fill-color);\n",
              "      border-top-color: var(--fill-color);\n",
              "    }\n",
              "    30% {\n",
              "      border-color: transparent;\n",
              "      border-left-color: var(--fill-color);\n",
              "      border-top-color: var(--fill-color);\n",
              "      border-right-color: var(--fill-color);\n",
              "    }\n",
              "    40% {\n",
              "      border-color: transparent;\n",
              "      border-right-color: var(--fill-color);\n",
              "      border-top-color: var(--fill-color);\n",
              "    }\n",
              "    60% {\n",
              "      border-color: transparent;\n",
              "      border-right-color: var(--fill-color);\n",
              "    }\n",
              "    80% {\n",
              "      border-color: transparent;\n",
              "      border-right-color: var(--fill-color);\n",
              "      border-bottom-color: var(--fill-color);\n",
              "    }\n",
              "    90% {\n",
              "      border-color: transparent;\n",
              "      border-bottom-color: var(--fill-color);\n",
              "    }\n",
              "  }\n",
              "</style>\n",
              "\n",
              "  <script>\n",
              "    async function quickchart(key) {\n",
              "      const quickchartButtonEl =\n",
              "        document.querySelector('#' + key + ' button');\n",
              "      quickchartButtonEl.disabled = true;  // To prevent multiple clicks.\n",
              "      quickchartButtonEl.classList.add('colab-df-spinner');\n",
              "      try {\n",
              "        const charts = await google.colab.kernel.invokeFunction(\n",
              "            'suggestCharts', [key], {});\n",
              "      } catch (error) {\n",
              "        console.error('Error during call to suggestCharts:', error);\n",
              "      }\n",
              "      quickchartButtonEl.classList.remove('colab-df-spinner');\n",
              "      quickchartButtonEl.classList.add('colab-df-quickchart-complete');\n",
              "    }\n",
              "    (() => {\n",
              "      let quickchartButtonEl =\n",
              "        document.querySelector('#df-93f6c3aa-32ec-4bde-a774-6d03aa79544e button');\n",
              "      quickchartButtonEl.style.display =\n",
              "        google.colab.kernel.accessAllowed ? 'block' : 'none';\n",
              "    })();\n",
              "  </script>\n",
              "</div>\n",
              "\n",
              "    </div>\n",
              "  </div>\n"
            ],
            "application/vnd.google.colaboratory.intrinsic+json": {
              "type": "dataframe",
              "summary": "{\n  \"name\": \"arquivo[['campaign', 'previous']]\",\n  \"rows\": 8,\n  \"fields\": [\n    {\n      \"column\": \"campaign\",\n      \"properties\": {\n        \"dtype\": \"number\",\n        \"std\": 3942.6210107711095,\n        \"min\": 1.0,\n        \"max\": 11162.0,\n        \"num_unique_values\": 7,\n        \"samples\": [\n          11162.0,\n          2.508421429851281,\n          3.0\n        ],\n        \"semantic_type\": \"\",\n        \"description\": \"\"\n      }\n    },\n    {\n      \"column\": \"previous\",\n      \"properties\": {\n        \"dtype\": \"number\",\n        \"std\": 3943.27625599434,\n        \"min\": 0.0,\n        \"max\": 11162.0,\n        \"num_unique_values\": 6,\n        \"samples\": [\n          11162.0,\n          0.8325568894463358,\n          58.0\n        ],\n        \"semantic_type\": \"\",\n        \"description\": \"\"\n      }\n    }\n  ]\n}"
            }
          },
          "metadata": {},
          "execution_count": 33
        }
      ]
    },
    {
      "cell_type": "markdown",
      "source": [
        "A Coluna \"campaign\" indica os contatos realizados durante a campanha. Observei que os valores acima de 33 são ruídos.\n",
        "Vou imputar valores médios de campanha, portanto, ao tratar valores acima de 33 nessa coluna.\n",
        "\n",
        "A coluna \"previous\" indica os contatos efetuados previamente a esta campanha. Também observei que valores acima de 33 são destoantes.\n",
        "Vou imputar valores médios de contatos prévios, portanto, ao tratar valores acima de 33 nessa coluna."
      ],
      "metadata": {
        "id": "ms0bqxG0ha0m"
      }
    },
    {
      "cell_type": "code",
      "source": [
        "# Analisando a coluna 'campaign'.\n",
        "\n",
        "len (arquivo[arquivo['campaign'] > 33]) / len(arquivo) * 100"
      ],
      "metadata": {
        "colab": {
          "base_uri": "https://localhost:8080/"
        },
        "id": "4NdjG4h1unt1",
        "outputId": "90f61648-e525-440d-998c-c2184fa83a00"
      },
      "execution_count": 34,
      "outputs": [
        {
          "output_type": "execute_result",
          "data": {
            "text/plain": [
              "0.035835871707579285"
            ]
          },
          "metadata": {},
          "execution_count": 34
        }
      ]
    },
    {
      "cell_type": "code",
      "source": [
        "# Analisando coluna 'previous'.\n",
        "\n",
        "len (arquivo[arquivo['previous'] > 33] ) / len(arquivo) * 100"
      ],
      "metadata": {
        "colab": {
          "base_uri": "https://localhost:8080/"
        },
        "id": "ni8ivx7JgWMV",
        "outputId": "4e265726-c39a-4bc8-a2fd-ec91315f64ae"
      },
      "execution_count": 35,
      "outputs": [
        {
          "output_type": "execute_result",
          "data": {
            "text/plain": [
              "0.04479483963447411"
            ]
          },
          "metadata": {},
          "execution_count": 35
        }
      ]
    },
    {
      "cell_type": "markdown",
      "source": [
        "Observando a coluna 'contracted': Os valores são bem equilibrados, portanto, a acurácia pode ser uma boa opção de métrica para modelo de previsão da campanha de marketing.\n"
      ],
      "metadata": {
        "id": "7kw-wGnhiEjL"
      }
    },
    {
      "cell_type": "code",
      "source": [
        "# Analisando a coluna de resposta.\n",
        "value_counts = arquivo['contracted'].value_counts()\n",
        "\n",
        "value_counts.plot.bar(title = 'Deposit contracted')"
      ],
      "metadata": {
        "colab": {
          "base_uri": "https://localhost:8080/",
          "height": 500
        },
        "id": "hWojQH8Ku2I7",
        "outputId": "1ea974d8-f4f8-47f1-ceed-db40b58e767d"
      },
      "execution_count": 36,
      "outputs": [
        {
          "output_type": "execute_result",
          "data": {
            "text/plain": [
              "<Axes: title={'center': 'Deposit contracted'}, xlabel='contracted'>"
            ]
          },
          "metadata": {},
          "execution_count": 36
        },
        {
          "output_type": "display_data",
          "data": {
            "text/plain": [
              "<Figure size 640x480 with 1 Axes>"
            ],
            "image/png": "[encoded data removed]"
          },
          "metadata": {}
        }
      ]
    },
    {
      "cell_type": "markdown",
      "source": [
        "A seguir, vou tratar a base, preparando conjunto de dados para processo:\n",
        "\n",
        "Primeiro, criando função para receber uma linha do dataframe e o nome da coluna, se o valor na coluna especificada for \"yes\", retorna 1; caso contrário, retorna 0.\n",
        "\n",
        "Em seguida, criando função para receber linha do dataframe, nome da coluna, um limite e o dataframe. Se o valor da referida coluna for inferior ou igual ao limite, retorna o próprio valor . Se não for, a função calcula a média dos valores menores ou iguais ao limite da referida coluna e retorna esse valor médio.\n",
        "\n",
        "Depois, fazendo a limpeza da base. Função para receber o dataframe (arquivo) contendo um conjunto de dados de campanha bancária e retornar um dataframe limpo. Cria uma cópia do dataframe original (cleaned_arquivo).\n",
        "\n",
        "Por fim, transformando colunas categóricas em numéricas:\n",
        "Fazendo coversão de sim/não para boleanas e fazendo codificação one-hot de todas as demais colunas categóricas especificadas na lista \"cat_columns\" e atualizando o DataFrame \"cleaned_arquivo\" com as novas colunas dummy.\n",
        "\n",
        "Fiz ainda, o tratamento das colunas 'campaign' e 'previous':\n",
        "Alterando valores destoantes das colunas \"campaign\" e \"previous\" e descartando as colunas originais, conforme a análise que fiz anteriormente sobre os valores acima de 33."
      ],
      "metadata": {
        "id": "mrhNGahCjONb"
      }
    },
    {
      "cell_type": "code",
      "source": [
        "# Preparando conjunto de dados para processo.\n",
        "\n",
        "\n",
        "def get_dummy_from_bool(row, column_name):\n",
        "    return 1 if row[column_name] == 'yes' else 0\n",
        "\n",
        "\n",
        "def get_correct_values(row, column_name, threshold, df):\n",
        "\n",
        "    if row[column_name] <= threshold:\n",
        "        return row[column_name]\n",
        "    else:\n",
        "        mean = arquivo[arquivo[column_name] <= threshold][column_name].mean()\n",
        "        return mean\n",
        "\n",
        "# Fazendo a limpeza da base.\n",
        "\n",
        "def clean_data(arquivo):\n",
        "\n",
        "    cleaned_arquivo = arquivo.copy()\n",
        "\n",
        "# Convertendo colunas sim/não em boleanas\n",
        "    bool_columns = ['contracted', 'housing', 'loan', 'default']\n",
        "    for bool_col in bool_columns:\n",
        "        cleaned_arquivo[bool_col + '_bool'] = arquivo.apply(lambda row: get_dummy_from_bool(row, bool_col),axis=1)\n",
        "\n",
        "    cleaned_arquivo = cleaned_arquivo.drop(columns = bool_columns)\n",
        "\n",
        "# Convertendo colunas categóricas em variáveis ​​fictícias (dummy).\n",
        "\n",
        "    cat_columns = ['job', 'marital', 'education', 'contact', 'month', 'poutcome']\n",
        "\n",
        "    for col in  cat_columns:\n",
        "      cleaned_arquivo = pd.concat(\n",
        "        [\n",
        "          cleaned_arquivo.drop(col, axis=1),\n",
        "          pd.get_dummies(\n",
        "              cleaned_arquivo[col],\n",
        "              prefix=col,\n",
        "              prefix_sep='_',\n",
        "              drop_first=True,\n",
        "              dummy_na=False\n",
        "          )\n",
        "        ],\n",
        "        axis=1\n",
        "      )\n",
        "\n",
        "# Deletando colunas que considerei irrelevante por ser bastante discrepante e ruidosa.\n",
        "    cleaned_arquivo = cleaned_arquivo.drop(columns = ['pdays'])\n",
        "\n",
        "# Alterando valores destoantes das colunas \"campaign\" e \"previous\"\n",
        "    cleaned_arquivo['campaign_cleaned'] = arquivo.apply(lambda row: get_correct_values(row, 'campaign', 33, cleaned_arquivo),axis=1)\n",
        "    cleaned_arquivo['previous_cleaned'] = arquivo.apply(lambda row: get_correct_values(row, 'previous', 33, cleaned_arquivo),axis=1)\n",
        "\n",
        "    cleaned_arquivo = cleaned_arquivo.drop(columns = ['campaign', 'previous'])\n",
        "\n",
        "    return cleaned_arquivo"
      ],
      "metadata": {
        "id": "a-kZlM4tvZ41"
      },
      "execution_count": 37,
      "outputs": []
    },
    {
      "cell_type": "code",
      "source": [
        "# Limpando o dataset e conferindo.\n",
        "cleaned_arquivo = clean_data(arquivo)\n",
        "cleaned_arquivo.head()"
      ],
      "metadata": {
        "colab": {
          "base_uri": "https://localhost:8080/",
          "height": 273
        },
        "id": "MN7exTF2vcjB",
        "outputId": "aeba05a4-ca22-4220-f432-8a11caa801d7"
      },
      "execution_count": 38,
      "outputs": [
        {
          "output_type": "execute_result",
          "data": {
            "text/plain": [
              "   age  balance  day  duration  contracted_bool  housing_bool  loan_bool  \\\n",
              "0   59     2343    5      1042                1             1          0   \n",
              "1   56       45    5      1467                1             0          0   \n",
              "2   41     1270    5      1389                1             1          0   \n",
              "3   55     2476    5       579                1             1          0   \n",
              "4   54      184    5       673                1             0          0   \n",
              "\n",
              "   default_bool  job_blue-collar  job_entrepreneur  ...  month_mar  month_may  \\\n",
              "0             0            False             False  ...      False       True   \n",
              "1             0            False             False  ...      False       True   \n",
              "2             0            False             False  ...      False       True   \n",
              "3             0            False             False  ...      False       True   \n",
              "4             0            False             False  ...      False       True   \n",
              "\n",
              "   month_nov  month_oct  month_sep  poutcome_other  poutcome_success  \\\n",
              "0      False      False      False           False             False   \n",
              "1      False      False      False           False             False   \n",
              "2      False      False      False           False             False   \n",
              "3      False      False      False           False             False   \n",
              "4      False      False      False           False             False   \n",
              "\n",
              "   poutcome_unknown  campaign_cleaned  previous_cleaned  \n",
              "0              True               1.0               0.0  \n",
              "1              True               1.0               0.0  \n",
              "2              True               1.0               0.0  \n",
              "3              True               1.0               0.0  \n",
              "4              True               2.0               0.0  \n",
              "\n",
              "[5 rows x 42 columns]"
            ],
            "text/html": [
              "\n",
              "  <div id=\"df-76282e5c-a3f4-4c53-9168-73fc91c6427f\" class=\"colab-df-container\">\n",
              "    <div>\n",
              "<style scoped>\n",
              "    .dataframe tbody tr th:only-of-type {\n",
              "        vertical-align: middle;\n",
              "    }\n",
              "\n",
              "    .dataframe tbody tr th {\n",
              "        vertical-align: top;\n",
              "    }\n",
              "\n",
              "    .dataframe thead th {\n",
              "        text-align: right;\n",
              "    }\n",
              "</style>\n",
              "<table border=\"1\" class=\"dataframe\">\n",
              "  <thead>\n",
              "    <tr style=\"text-align: right;\">\n",
              "      <th></th>\n",
              "      <th>age</th>\n",
              "      <th>balance</th>\n",
              "      <th>day</th>\n",
              "      <th>duration</th>\n",
              "      <th>contracted_bool</th>\n",
              "      <th>housing_bool</th>\n",
              "      <th>loan_bool</th>\n",
              "      <th>default_bool</th>\n",
              "      <th>job_blue-collar</th>\n",
              "      <th>job_entrepreneur</th>\n",
              "      <th>...</th>\n",
              "      <th>month_mar</th>\n",
              "      <th>month_may</th>\n",
              "      <th>month_nov</th>\n",
              "      <th>month_oct</th>\n",
              "      <th>month_sep</th>\n",
              "      <th>poutcome_other</th>\n",
              "      <th>poutcome_success</th>\n",
              "      <th>poutcome_unknown</th>\n",
              "      <th>campaign_cleaned</th>\n",
              "      <th>previous_cleaned</th>\n",
              "    </tr>\n",
              "  </thead>\n",
              "  <tbody>\n",
              "    <tr>\n",
              "      <th>0</th>\n",
              "      <td>59</td>\n",
              "      <td>2343</td>\n",
              "      <td>5</td>\n",
              "      <td>1042</td>\n",
              "      <td>1</td>\n",
              "      <td>1</td>\n",
              "      <td>0</td>\n",
              "      <td>0</td>\n",
              "      <td>False</td>\n",
              "      <td>False</td>\n",
              "      <td>...</td>\n",
              "      <td>False</td>\n",
              "      <td>True</td>\n",
              "      <td>False</td>\n",
              "      <td>False</td>\n",
              "      <td>False</td>\n",
              "      <td>False</td>\n",
              "      <td>False</td>\n",
              "      <td>True</td>\n",
              "      <td>1.0</td>\n",
              "      <td>0.0</td>\n",
              "    </tr>\n",
              "    <tr>\n",
              "      <th>1</th>\n",
              "      <td>56</td>\n",
              "      <td>45</td>\n",
              "      <td>5</td>\n",
              "      <td>1467</td>\n",
              "      <td>1</td>\n",
              "      <td>0</td>\n",
              "      <td>0</td>\n",
              "      <td>0</td>\n",
              "      <td>False</td>\n",
              "      <td>False</td>\n",
              "      <td>...</td>\n",
              "      <td>False</td>\n",
              "      <td>True</td>\n",
              "      <td>False</td>\n",
              "      <td>False</td>\n",
              "      <td>False</td>\n",
              "      <td>False</td>\n",
              "      <td>False</td>\n",
              "      <td>True</td>\n",
              "      <td>1.0</td>\n",
              "      <td>0.0</td>\n",
              "    </tr>\n",
              "    <tr>\n",
              "      <th>2</th>\n",
              "      <td>41</td>\n",
              "      <td>1270</td>\n",
              "      <td>5</td>\n",
              "      <td>1389</td>\n",
              "      <td>1</td>\n",
              "      <td>1</td>\n",
              "      <td>0</td>\n",
              "      <td>0</td>\n",
              "      <td>False</td>\n",
              "      <td>False</td>\n",
              "      <td>...</td>\n",
              "      <td>False</td>\n",
              "      <td>True</td>\n",
              "      <td>False</td>\n",
              "      <td>False</td>\n",
              "      <td>False</td>\n",
              "      <td>False</td>\n",
              "      <td>False</td>\n",
              "      <td>True</td>\n",
              "      <td>1.0</td>\n",
              "      <td>0.0</td>\n",
              "    </tr>\n",
              "    <tr>\n",
              "      <th>3</th>\n",
              "      <td>55</td>\n",
              "      <td>2476</td>\n",
              "      <td>5</td>\n",
              "      <td>579</td>\n",
              "      <td>1</td>\n",
              "      <td>1</td>\n",
              "      <td>0</td>\n",
              "      <td>0</td>\n",
              "      <td>False</td>\n",
              "      <td>False</td>\n",
              "      <td>...</td>\n",
              "      <td>False</td>\n",
              "      <td>True</td>\n",
              "      <td>False</td>\n",
              "      <td>False</td>\n",
              "      <td>False</td>\n",
              "      <td>False</td>\n",
              "      <td>False</td>\n",
              "      <td>True</td>\n",
              "      <td>1.0</td>\n",
              "      <td>0.0</td>\n",
              "    </tr>\n",
              "    <tr>\n",
              "      <th>4</th>\n",
              "      <td>54</td>\n",
              "      <td>184</td>\n",
              "      <td>5</td>\n",
              "      <td>673</td>\n",
              "      <td>1</td>\n",
              "      <td>0</td>\n",
              "      <td>0</td>\n",
              "      <td>0</td>\n",
              "      <td>False</td>\n",
              "      <td>False</td>\n",
              "      <td>...</td>\n",
              "      <td>False</td>\n",
              "      <td>True</td>\n",
              "      <td>False</td>\n",
              "      <td>False</td>\n",
              "      <td>False</td>\n",
              "      <td>False</td>\n",
              "      <td>False</td>\n",
              "      <td>True</td>\n",
              "      <td>2.0</td>\n",
              "      <td>0.0</td>\n",
              "    </tr>\n",
              "  </tbody>\n",
              "</table>\n",
              "<p>5 rows × 42 columns</p>\n",
              "</div>\n",
              "    <div class=\"colab-df-buttons\">\n",
              "\n",
              "  <div class=\"colab-df-container\">\n",
              "    <button class=\"colab-df-convert\" onclick=\"convertToInteractive('df-76282e5c-a3f4-4c53-9168-73fc91c6427f')\"\n",
              "            title=\"Convert this dataframe to an interactive table.\"\n",
              "            style=\"display:none;\">\n",
              "\n",
              "  <svg xmlns=\"http://www.w3.org/2000/svg\" height=\"24px\" viewBox=\"0 -960 960 960\">\n",
              "    <path d=\"M120-120v-720h720v720H120Zm60-500h600v-160H180v160Zm220 220h160v-160H400v160Zm0 220h160v-160H400v160ZM180-400h160v-160H180v160Zm440 0h160v-160H620v160ZM180-180h160v-160H180v160Zm440 0h160v-160H620v160Z\"/>\n",
              "  </svg>\n",
              "    </button>\n",
              "\n",
              "  <style>\n",
              "    .colab-df-container {\n",
              "      display:flex;\n",
              "      gap: 12px;\n",
              "    }\n",
              "\n",
              "    .colab-df-convert {\n",
              "      background-color: #E8F0FE;\n",
              "      border: none;\n",
              "      border-radius: 50%;\n",
              "      cursor: pointer;\n",
              "      display: none;\n",
              "      fill: #1967D2;\n",
              "      height: 32px;\n",
              "      padding: 0 0 0 0;\n",
              "      width: 32px;\n",
              "    }\n",
              "\n",
              "    .colab-df-convert:hover {\n",
              "      background-color: #E2EBFA;\n",
              "      box-shadow: 0px 1px 2px rgba(60, 64, 67, 0.3), 0px 1px 3px 1px rgba(60, 64, 67, 0.15);\n",
              "      fill: #174EA6;\n",
              "    }\n",
              "\n",
              "    .colab-df-buttons div {\n",
              "      margin-bottom: 4px;\n",
              "    }\n",
              "\n",
              "    [theme=dark] .colab-df-convert {\n",
              "      background-color: #3B4455;\n",
              "      fill: #D2E3FC;\n",
              "    }\n",
              "\n",
              "    [theme=dark] .colab-df-convert:hover {\n",
              "      background-color: #434B5C;\n",
              "      box-shadow: 0px 1px 3px 1px rgba(0, 0, 0, 0.15);\n",
              "      filter: drop-shadow(0px 1px 2px rgba(0, 0, 0, 0.3));\n",
              "      fill: #FFFFFF;\n",
              "    }\n",
              "  </style>\n",
              "\n",
              "    <script>\n",
              "      const buttonEl =\n",
              "        document.querySelector('#df-76282e5c-a3f4-4c53-9168-73fc91c6427f button.colab-df-convert');\n",
              "      buttonEl.style.display =\n",
              "        google.colab.kernel.accessAllowed ? 'block' : 'none';\n",
              "\n",
              "      async function convertToInteractive(key) {\n",
              "        const element = document.querySelector('#df-76282e5c-a3f4-4c53-9168-73fc91c6427f');\n",
              "        const dataTable =\n",
              "          await google.colab.kernel.invokeFunction('convertToInteractive',\n",
              "                                                    [key], {});\n",
              "        if (!dataTable) return;\n",
              "\n",
              "        const docLinkHtml = 'Like what you see? Visit the ' +\n",
              "          '<a target=\"_blank\" href=https://colab.research.google.com/notebooks/data_table.ipynb>data table notebook</a>'\n",
              "          + ' to learn more about interactive tables.';\n",
              "        element.innerHTML = '';\n",
              "        dataTable['output_type'] = 'display_data';\n",
              "        await google.colab.output.renderOutput(dataTable, element);\n",
              "        const docLink = document.createElement('div');\n",
              "        docLink.innerHTML = docLinkHtml;\n",
              "        element.appendChild(docLink);\n",
              "      }\n",
              "    </script>\n",
              "  </div>\n",
              "\n",
              "\n",
              "<div id=\"df-d03df93d-dd7b-4ecf-b9a7-84cad87de7cd\">\n",
              "  <button class=\"colab-df-quickchart\" onclick=\"quickchart('df-d03df93d-dd7b-4ecf-b9a7-84cad87de7cd')\"\n",
              "            title=\"Suggest charts\"\n",
              "            style=\"display:none;\">\n",
              "\n",
              "<svg xmlns=\"http://www.w3.org/2000/svg\" height=\"24px\"viewBox=\"0 0 24 24\"\n",
              "     width=\"24px\">\n",
              "    <g>\n",
              "        <path d=\"M19 3H5c-1.1 0-2 .9-2 2v14c0 1.1.9 2 2 2h14c1.1 0 2-.9 2-2V5c0-1.1-.9-2-2-2zM9 17H7v-7h2v7zm4 0h-2V7h2v10zm4 0h-2v-4h2v4z\"/>\n",
              "    </g>\n",
              "</svg>\n",
              "  </button>\n",
              "\n",
              "<style>\n",
              "  .colab-df-quickchart {\n",
              "      --bg-color: #E8F0FE;\n",
              "      --fill-color: #1967D2;\n",
              "      --hover-bg-color: #E2EBFA;\n",
              "      --hover-fill-color: #174EA6;\n",
              "      --disabled-fill-color: #AAA;\n",
              "      --disabled-bg-color: #DDD;\n",
              "  }\n",
              "\n",
              "  [theme=dark] .colab-df-quickchart {\n",
              "      --bg-color: #3B4455;\n",
              "      --fill-color: #D2E3FC;\n",
              "      --hover-bg-color: #434B5C;\n",
              "      --hover-fill-color: #FFFFFF;\n",
              "      --disabled-bg-color: #3B4455;\n",
              "      --disabled-fill-color: #666;\n",
              "  }\n",
              "\n",
              "  .colab-df-quickchart {\n",
              "    background-color: var(--bg-color);\n",
              "    border: none;\n",
              "    border-radius: 50%;\n",
              "    cursor: pointer;\n",
              "    display: none;\n",
              "    fill: var(--fill-color);\n",
              "    height: 32px;\n",
              "    padding: 0;\n",
              "    width: 32px;\n",
              "  }\n",
              "\n",
              "  .colab-df-quickchart:hover {\n",
              "    background-color: var(--hover-bg-color);\n",
              "    box-shadow: 0 1px 2px rgba(60, 64, 67, 0.3), 0 1px 3px 1px rgba(60, 64, 67, 0.15);\n",
              "    fill: var(--button-hover-fill-color);\n",
              "  }\n",
              "\n",
              "  .colab-df-quickchart-complete:disabled,\n",
              "  .colab-df-quickchart-complete:disabled:hover {\n",
              "    background-color: var(--disabled-bg-color);\n",
              "    fill: var(--disabled-fill-color);\n",
              "    box-shadow: none;\n",
              "  }\n",
              "\n",
              "  .colab-df-spinner {\n",
              "    border: 2px solid var(--fill-color);\n",
              "    border-color: transparent;\n",
              "    border-bottom-color: var(--fill-color);\n",
              "    animation:\n",
              "      spin 1s steps(1) infinite;\n",
              "  }\n",
              "\n",
              "  @keyframes spin {\n",
              "    0% {\n",
              "      border-color: transparent;\n",
              "      border-bottom-color: var(--fill-color);\n",
              "      border-left-color: var(--fill-color);\n",
              "    }\n",
              "    20% {\n",
              "      border-color: transparent;\n",
              "      border-left-color: var(--fill-color);\n",
              "      border-top-color: var(--fill-color);\n",
              "    }\n",
              "    30% {\n",
              "      border-color: transparent;\n",
              "      border-left-color: var(--fill-color);\n",
              "      border-top-color: var(--fill-color);\n",
              "      border-right-color: var(--fill-color);\n",
              "    }\n",
              "    40% {\n",
              "      border-color: transparent;\n",
              "      border-right-color: var(--fill-color);\n",
              "      border-top-color: var(--fill-color);\n",
              "    }\n",
              "    60% {\n",
              "      border-color: transparent;\n",
              "      border-right-color: var(--fill-color);\n",
              "    }\n",
              "    80% {\n",
              "      border-color: transparent;\n",
              "      border-right-color: var(--fill-color);\n",
              "      border-bottom-color: var(--fill-color);\n",
              "    }\n",
              "    90% {\n",
              "      border-color: transparent;\n",
              "      border-bottom-color: var(--fill-color);\n",
              "    }\n",
              "  }\n",
              "</style>\n",
              "\n",
              "  <script>\n",
              "    async function quickchart(key) {\n",
              "      const quickchartButtonEl =\n",
              "        document.querySelector('#' + key + ' button');\n",
              "      quickchartButtonEl.disabled = true;  // To prevent multiple clicks.\n",
              "      quickchartButtonEl.classList.add('colab-df-spinner');\n",
              "      try {\n",
              "        const charts = await google.colab.kernel.invokeFunction(\n",
              "            'suggestCharts', [key], {});\n",
              "      } catch (error) {\n",
              "        console.error('Error during call to suggestCharts:', error);\n",
              "      }\n",
              "      quickchartButtonEl.classList.remove('colab-df-spinner');\n",
              "      quickchartButtonEl.classList.add('colab-df-quickchart-complete');\n",
              "    }\n",
              "    (() => {\n",
              "      let quickchartButtonEl =\n",
              "        document.querySelector('#df-d03df93d-dd7b-4ecf-b9a7-84cad87de7cd button');\n",
              "      quickchartButtonEl.style.display =\n",
              "        google.colab.kernel.accessAllowed ? 'block' : 'none';\n",
              "    })();\n",
              "  </script>\n",
              "</div>\n",
              "\n",
              "    </div>\n",
              "  </div>\n"
            ],
            "application/vnd.google.colaboratory.intrinsic+json": {
              "type": "dataframe",
              "variable_name": "cleaned_arquivo"
            }
          },
          "metadata": {},
          "execution_count": 38
        }
      ]
    },
    {
      "cell_type": "code",
      "source": [
        "# Verificando os valores da coluna \"contracted_bool\" do dataframe \"cleaned_arquivo\" e gerando gráfico para melhor interpretação.\n",
        "\n",
        "value_counts = cleaned_arquivo['contracted_bool'].value_counts()\n",
        "\n",
        "value_counts.plot.bar(title = 'Contracted Result')"
      ],
      "metadata": {
        "colab": {
          "base_uri": "https://localhost:8080/",
          "height": 485
        },
        "id": "OyOoayMVxZQV",
        "outputId": "cf9aac7b-4405-44d5-bce9-7452fb451d20"
      },
      "execution_count": 39,
      "outputs": [
        {
          "output_type": "execute_result",
          "data": {
            "text/plain": [
              "<Axes: title={'center': 'Contracted Result'}, xlabel='contracted_bool'>"
            ]
          },
          "metadata": {},
          "execution_count": 39
        },
        {
          "output_type": "display_data",
          "data": {
            "text/plain": [
              "<Figure size 640x480 with 1 Axes>"
            ],
            "image/png": "[encoded data removed]"
          },
          "metadata": {}
        }
      ]
    },
    {
      "cell_type": "markdown",
      "source": [
        "Separando as variáveis entre preditoras e variável alvo:"
      ],
      "metadata": {
        "id": "7szHn9MwmpW9"
      }
    },
    {
      "cell_type": "code",
      "source": [
        "# Variáveis preditoras e variável alvo.\n",
        "y = cleaned_arquivo['contracted_bool']\n",
        "x = cleaned_arquivo.drop('contracted_bool', axis = 1)"
      ],
      "metadata": {
        "id": "lL5-V5zuxFzT"
      },
      "execution_count": 40,
      "outputs": []
    },
    {
      "cell_type": "markdown",
      "source": [
        "Abaixo:\n",
        "Criando conjunto de dados de treino e teste. Usarei 30% dos dados para teste e 70% para treinamento e parâmentro random_state 42.\n",
        "Importando a função train_test_split do módulo model_selection da biblioteca Scikit-learn."
      ],
      "metadata": {
        "id": "j8Xf62f8mKiW"
      }
    },
    {
      "cell_type": "code",
      "source": [
        "# Criando conjunto de dados de treino e teste.\n",
        "\n",
        "from sklearn.model_selection import train_test_split\n",
        "\n",
        "x_treino, x_teste, y_treino, y_teste = train_test_split(x, y, test_size = 0.3, random_state = 42)"
      ],
      "metadata": {
        "id": "ZrKJ_1aMxLEn"
      },
      "execution_count": 41,
      "outputs": []
    },
    {
      "cell_type": "markdown",
      "source": [
        "Para meu problema de classificação binária, penso inicialmente que seja interessante a Regressão Logística, mas vou testar também outros algoritmos."
      ],
      "metadata": {
        "id": "nnddIgmFmcUH"
      }
    },
    {
      "cell_type": "code",
      "source": [
        "# Importando ExtraTreesClassifier, LogisticRegression e GradientBoostingClassifier.\n",
        "\n",
        "from sklearn.ensemble import ExtraTreesClassifier\n",
        "from sklearn.linear_model import LogisticRegression\n",
        "from sklearn.ensemble import GradientBoostingClassifier"
      ],
      "metadata": {
        "id": "DAXa-BEhxK1Q"
      },
      "execution_count": 42,
      "outputs": []
    },
    {
      "cell_type": "markdown",
      "source": [
        "Criação do modelo ExtraTreesClassifier e exibindo a acurácia:"
      ],
      "metadata": {
        "id": "uPW0mTowm7vK"
      }
    },
    {
      "cell_type": "code",
      "source": [
        "modelo = ExtraTreesClassifier()\n",
        "modelo.fit(x_treino, y_treino)\n",
        "\n",
        "# Imprimindo resultados\n",
        "resultado = modelo.score(x_teste, y_teste)\n",
        "\n",
        "# Convertendo o resultado para %\n",
        "acuracia_percentual = resultado * 100\n",
        "\n",
        "# Arredondando o resultado para duas casas decimais\n",
        "acuracia_percentual_arredondada = round(acuracia_percentual, 2)\n",
        "\n",
        "# Exibindo a acurácia em porcentagem com duas casas decimais\n",
        "print('Acurácia:', acuracia_percentual_arredondada, '%')"
      ],
      "metadata": {
        "colab": {
          "base_uri": "https://localhost:8080/"
        },
        "id": "TU0NFAWGPPc2",
        "outputId": "dac76604-fff0-44f3-b18d-22c5921c0c0a"
      },
      "execution_count": 43,
      "outputs": [
        {
          "output_type": "stream",
          "name": "stdout",
          "text": [
            "Acurácia: 82.17 %\n"
          ]
        }
      ]
    },
    {
      "cell_type": "markdown",
      "source": [
        "Criação do modelo ExtraTreesClassifier utilizando número de estimadores para quantidade de árvores de decisão (100) e exibindo a acurácia:"
      ],
      "metadata": {
        "id": "RIbd8bGWnOwp"
      }
    },
    {
      "cell_type": "code",
      "source": [
        "modelo = ExtraTreesClassifier(n_estimators=100)\n",
        "modelo.fit(x_treino, y_treino)\n",
        "\n",
        "# Imprimindo resultados\n",
        "resultado = modelo.score(x_teste, y_teste)\n",
        "\n",
        "# Convertendo o resultado para %\n",
        "acuracia_percentual = resultado * 100\n",
        "\n",
        "# Arredondando o resultado para duas casas decimais\n",
        "acuracia_percentual_arredondada = round(acuracia_percentual, 2)\n",
        "\n",
        "# Exibindo a acurácia em porcentagem com duas casas decimais\n",
        "print('Acurácia:', acuracia_percentual_arredondada, '%')"
      ],
      "metadata": {
        "colab": {
          "base_uri": "https://localhost:8080/"
        },
        "id": "-eulyknLRA0Q",
        "outputId": "032a392e-0178-4f4a-dd4c-d6edadafda34"
      },
      "execution_count": 44,
      "outputs": [
        {
          "output_type": "stream",
          "name": "stdout",
          "text": [
            "Acurácia: 82.71 %\n"
          ]
        }
      ]
    },
    {
      "cell_type": "markdown",
      "source": [
        "Criação do modelo LogisticRegression e exibindo acurácia:"
      ],
      "metadata": {
        "id": "0pgRlsqnnWhe"
      }
    },
    {
      "cell_type": "code",
      "source": [
        "modelo1 = LogisticRegression()\n",
        "modelo1.fit(x_treino ,y_treino)\n",
        "\n",
        "# Imprimindo resultados\n",
        "resultado = modelo1.score(x_teste, y_teste)\n",
        "\n",
        "# Convertendo o resultado para %\n",
        "acuracia_percentual = resultado * 100\n",
        "\n",
        "# Arredondando o resultado para duas casas decimais\n",
        "acuracia_percentual_arredondada = round(acuracia_percentual, 2)\n",
        "\n",
        "# Exibindo a acurácia em porcentagem com duas casas decimais\n",
        "print('Acurácia:', acuracia_percentual_arredondada, '%')"
      ],
      "metadata": {
        "colab": {
          "base_uri": "https://localhost:8080/"
        },
        "id": "qL88Cm8HDmJz",
        "outputId": "05048b54-665d-4a67-9718-b7755bef85e2"
      },
      "execution_count": 45,
      "outputs": [
        {
          "output_type": "stream",
          "name": "stdout",
          "text": [
            "Acurácia: 78.71 %\n"
          ]
        },
        {
          "output_type": "stream",
          "name": "stderr",
          "text": [
            "/usr/local/lib/python3.10/dist-packages/sklearn/linear_model/_logistic.py:458: ConvergenceWarning: lbfgs failed to converge (status=1):\n",
            "STOP: TOTAL NO. of ITERATIONS REACHED LIMIT.\n",
            "\n",
            "Increase the number of iterations (max_iter) or scale the data as shown in:\n",
            "    https://scikit-learn.org/stable/modules/preprocessing.html\n",
            "Please also refer to the documentation for alternative solver options:\n",
            "    https://scikit-learn.org/stable/modules/linear_model.html#logistic-regression\n",
            "  n_iter_i = _check_optimize_result(\n"
          ]
        }
      ]
    },
    {
      "cell_type": "markdown",
      "source": [
        "Criação do modelo GradientBoostingClassifier e exibindo a acurácia:"
      ],
      "metadata": {
        "id": "gmRnX32Pnf9n"
      }
    },
    {
      "cell_type": "code",
      "source": [
        "modelo2 = GradientBoostingClassifier()\n",
        "modelo2.fit(x_treino ,y_treino)\n",
        "\n",
        "# Imprimindo resultados\n",
        "resultado = modelo2.score(x_teste, y_teste)\n",
        "\n",
        "# Convertendo o resultado para %\n",
        "acuracia_percentual = resultado * 100\n",
        "\n",
        "# Arredondando o resultado para duas casas decimais\n",
        "acuracia_percentual_arredondada = round(acuracia_percentual, 2)\n",
        "\n",
        "# Exibindo a acurácia em porcentagem com duas casas decimais\n",
        "print('Acurácia:', acuracia_percentual_arredondada, '%')"
      ],
      "metadata": {
        "colab": {
          "base_uri": "https://localhost:8080/"
        },
        "id": "Y73zRlIKPdNS",
        "outputId": "9a2809f9-d757-4a33-eb16-9a415da65eb7"
      },
      "execution_count": 46,
      "outputs": [
        {
          "output_type": "stream",
          "name": "stdout",
          "text": [
            "Acurácia: 84.05 %\n"
          ]
        }
      ]
    },
    {
      "cell_type": "markdown",
      "source": [
        "Em seguida farei validação cruzada, utilizando 5 folds cross validation nos modelos:"
      ],
      "metadata": {
        "id": "_ozHaLXJnonZ"
      }
    },
    {
      "cell_type": "code",
      "source": [
        "# Importando a função para realizar a validação cruzada.\n",
        "from sklearn.model_selection import cross_val_score"
      ],
      "metadata": {
        "id": "JZ5tjDXuKa10"
      },
      "execution_count": 47,
      "outputs": []
    },
    {
      "cell_type": "code",
      "source": [
        "# Validação cruzada no 'modelo' de ExtraTreesClassifier.\n",
        "\n",
        "modelo = ExtraTreesClassifier()\n",
        "scores = cross_val_score(modelo, x_treino, y_treino, cv=5)\n",
        "acuracia_media = scores.mean()\n",
        "desvio_padrao = scores.std()\n",
        "\n",
        "\n",
        "print(scores)\n",
        "print('Acurácia média após validação cruzada:', acuracia_media)\n",
        "print('Desvio padrão dos scores:', desvio_padrao)"
      ],
      "metadata": {
        "colab": {
          "base_uri": "https://localhost:8080/"
        },
        "id": "YpuxxcnIMd22",
        "outputId": "c7ecd825-7fdd-490f-a599-949d005d68db"
      },
      "execution_count": 48,
      "outputs": [
        {
          "output_type": "stream",
          "name": "stdout",
          "text": [
            "[0.84325016 0.82853487 0.82789507 0.82714469 0.83290653]\n",
            "Acurácia média após validação cruzada: 0.8319462637512973\n",
            "Desvio padrão dos scores: 0.005996750516228402\n"
          ]
        }
      ]
    },
    {
      "cell_type": "code",
      "source": [
        "# Validação cruzada no 'modelo1' de Logistic Regression.\n",
        "\n",
        "modelo1 = LogisticRegression()\n",
        "scores = cross_val_score(modelo1, x_treino, y_treino, cv=5)\n",
        "acuracia_media = scores.mean()\n",
        "desvio_padrao = scores.std()\n",
        "\n",
        "print(scores)\n",
        "print('Acurácia média após validação cruzada:', acuracia_media)\n",
        "print('Desvio padrão dos scores:', desvio_padrao)\n",
        "\n"
      ],
      "metadata": {
        "colab": {
          "base_uri": "https://localhost:8080/"
        },
        "id": "HKB_mJcyF9UV",
        "outputId": "d23c3a27-4258-4eca-826d-0c30812f4f5b"
      },
      "execution_count": 49,
      "outputs": [
        {
          "output_type": "stream",
          "name": "stderr",
          "text": [
            "/usr/local/lib/python3.10/dist-packages/sklearn/linear_model/_logistic.py:458: ConvergenceWarning: lbfgs failed to converge (status=1):\n",
            "STOP: TOTAL NO. of ITERATIONS REACHED LIMIT.\n",
            "\n",
            "Increase the number of iterations (max_iter) or scale the data as shown in:\n",
            "    https://scikit-learn.org/stable/modules/preprocessing.html\n",
            "Please also refer to the documentation for alternative solver options:\n",
            "    https://scikit-learn.org/stable/modules/linear_model.html#logistic-regression\n",
            "  n_iter_i = _check_optimize_result(\n",
            "/usr/local/lib/python3.10/dist-packages/sklearn/linear_model/_logistic.py:458: ConvergenceWarning: lbfgs failed to converge (status=1):\n",
            "STOP: TOTAL NO. of ITERATIONS REACHED LIMIT.\n",
            "\n",
            "Increase the number of iterations (max_iter) or scale the data as shown in:\n",
            "    https://scikit-learn.org/stable/modules/preprocessing.html\n",
            "Please also refer to the documentation for alternative solver options:\n",
            "    https://scikit-learn.org/stable/modules/linear_model.html#logistic-regression\n",
            "  n_iter_i = _check_optimize_result(\n",
            "/usr/local/lib/python3.10/dist-packages/sklearn/linear_model/_logistic.py:458: ConvergenceWarning: lbfgs failed to converge (status=1):\n",
            "STOP: TOTAL NO. of ITERATIONS REACHED LIMIT.\n",
            "\n",
            "Increase the number of iterations (max_iter) or scale the data as shown in:\n",
            "    https://scikit-learn.org/stable/modules/preprocessing.html\n",
            "Please also refer to the documentation for alternative solver options:\n",
            "    https://scikit-learn.org/stable/modules/linear_model.html#logistic-regression\n",
            "  n_iter_i = _check_optimize_result(\n",
            "/usr/local/lib/python3.10/dist-packages/sklearn/linear_model/_logistic.py:458: ConvergenceWarning: lbfgs failed to converge (status=1):\n",
            "STOP: TOTAL NO. of ITERATIONS REACHED LIMIT.\n",
            "\n",
            "Increase the number of iterations (max_iter) or scale the data as shown in:\n",
            "    https://scikit-learn.org/stable/modules/preprocessing.html\n",
            "Please also refer to the documentation for alternative solver options:\n",
            "    https://scikit-learn.org/stable/modules/linear_model.html#logistic-regression\n",
            "  n_iter_i = _check_optimize_result(\n"
          ]
        },
        {
          "output_type": "stream",
          "name": "stdout",
          "text": [
            "[0.80422265 0.79526552 0.79206654 0.81754161 0.80601793]\n",
            "Acurácia média após validação cruzada: 0.8030228483095397\n",
            "Desvio padrão dos scores: 0.008960150521476756\n"
          ]
        },
        {
          "output_type": "stream",
          "name": "stderr",
          "text": [
            "/usr/local/lib/python3.10/dist-packages/sklearn/linear_model/_logistic.py:458: ConvergenceWarning: lbfgs failed to converge (status=1):\n",
            "STOP: TOTAL NO. of ITERATIONS REACHED LIMIT.\n",
            "\n",
            "Increase the number of iterations (max_iter) or scale the data as shown in:\n",
            "    https://scikit-learn.org/stable/modules/preprocessing.html\n",
            "Please also refer to the documentation for alternative solver options:\n",
            "    https://scikit-learn.org/stable/modules/linear_model.html#logistic-regression\n",
            "  n_iter_i = _check_optimize_result(\n"
          ]
        }
      ]
    },
    {
      "cell_type": "code",
      "source": [
        "# Validação cruzada no 'modelo2' de GradientBoostingClassifier.\n",
        "\n",
        "modelo2 = ExtraTreesClassifier()\n",
        "scores = cross_val_score(modelo2, x_treino, y_treino, cv=5)\n",
        "acuracia_media = scores.mean()\n",
        "desvio_padrao = scores.std()\n",
        "\n",
        "\n",
        "print(scores)\n",
        "print('Acurácia média após validação cruzada:', acuracia_media)\n",
        "print('Desvio padrão dos scores:', desvio_padrao)\n"
      ],
      "metadata": {
        "colab": {
          "base_uri": "https://localhost:8080/"
        },
        "id": "RNt_KGCFRzE1",
        "outputId": "1cd5143d-f1be-41e7-9733-2c7285908723"
      },
      "execution_count": 50,
      "outputs": [
        {
          "output_type": "stream",
          "name": "stdout",
          "text": [
            "[0.8381318  0.82725528 0.83045425 0.83034571 0.84122919]\n",
            "Acurácia média após validação cruzada: 0.8334832469486845\n",
            "Desvio padrão dos scores: 0.0052804399950784715\n"
          ]
        }
      ]
    },
    {
      "cell_type": "markdown",
      "source": [
        "Abaixo, vou acessar a importância dos atributos. Quero saber quais atributos foram mais relevantes para o modelo GradientBoostingClassifier:"
      ],
      "metadata": {
        "id": "b8Yvhh5goEb_"
      }
    },
    {
      "cell_type": "code",
      "source": [
        "# Inicializando o 'modelo2' GradientBoostingClassifier\n",
        "modelo2 = GradientBoostingClassifier()\n",
        "\n",
        "# Treinando o modelo nos seus dados\n",
        "modelo2.fit(x_treino, y_treino)# Acessando a importância dos atributos\n",
        "importancias_atributos = modelo2.feature_importances_\n",
        "\n",
        "# Associando os valores de importância com os nomes dos atributos\n",
        "nomes_atributos = x_treino.columns\n",
        "\n",
        "# Criando um DataFrame para melhor visualização\n",
        "importancias_cleaned_arquivo = pd.DataFrame({'Atributo': nomes_atributos, 'Importância': importancias_atributos})\n",
        "\n",
        "# Ordenando o DataFrame pela importância dos atributos\n",
        "importancias_cleaned_arquivo = importancias_cleaned_arquivo.sort_values(by='Importância', ascending=False)\n",
        "\n",
        "# Exibindo os atributos mais importantes\n",
        "print(importancias_cleaned_arquivo)"
      ],
      "metadata": {
        "colab": {
          "base_uri": "https://localhost:8080/"
        },
        "id": "E-AYxz625TLF",
        "outputId": "eeff2b8f-de06-4106-f473-567dc7cbea29"
      },
      "execution_count": 51,
      "outputs": [
        {
          "output_type": "stream",
          "name": "stdout",
          "text": [
            "               Atributo  Importância\n",
            "3              duration     0.529712\n",
            "37     poutcome_success     0.101199\n",
            "24      contact_unknown     0.076763\n",
            "4          housing_bool     0.050593\n",
            "40     previous_cleaned     0.039969\n",
            "2                   day     0.030023\n",
            "31            month_mar     0.029135\n",
            "0                   age     0.028122\n",
            "34            month_oct     0.022441\n",
            "1               balance     0.017299\n",
            "30            month_jun     0.014572\n",
            "32            month_may     0.010141\n",
            "35            month_sep     0.008181\n",
            "39     campaign_cleaned     0.007020\n",
            "5             loan_bool     0.004881\n",
            "29            month_jul     0.004663\n",
            "27            month_feb     0.003385\n",
            "21   education_tertiary     0.003366\n",
            "33            month_nov     0.002915\n",
            "25            month_aug     0.002800\n",
            "38     poutcome_unknown     0.002716\n",
            "26            month_dec     0.002129\n",
            "28            month_jan     0.001948\n",
            "18      marital_married     0.001324\n",
            "14          job_student     0.001119\n",
            "7       job_blue-collar     0.001071\n",
            "36       poutcome_other     0.000776\n",
            "23    contact_telephone     0.000424\n",
            "22    education_unknown     0.000258\n",
            "11          job_retired     0.000244\n",
            "15       job_technician     0.000179\n",
            "6          default_bool     0.000160\n",
            "9         job_housemaid     0.000148\n",
            "8      job_entrepreneur     0.000141\n",
            "20  education_secondary     0.000101\n",
            "16       job_unemployed     0.000080\n",
            "19       marital_single     0.000004\n",
            "17          job_unknown     0.000000\n",
            "13         job_services     0.000000\n",
            "12    job_self-employed     0.000000\n",
            "10       job_management     0.000000\n"
          ]
        }
      ]
    },
    {
      "cell_type": "markdown",
      "source": [
        "**Interpretando os resultados:**\n",
        "\n",
        "Mesmo ajustando hiperparâmetros como quantidade de arvores de decisão no modelo ExtraTreesClassifier, dos 3 modelos utilizados, o GradientBoostingClassifier apresentou melhor acurácia(83%).\n",
        "\n",
        "Entendo que que o modelo GradientBoostingClassifier criado foi uma boa solução, tendo em vista que é flexível, robusto e lida bem com dados heterogênios como os contidos em minha base; dados numéricos, dados categóricos, outliers e ruídos.\n",
        "\n",
        "Após validação cruzada o modelo GradientBoostingClassifier apresentou uma pequena redução na acurácia, entendo que seja porque a validação cruzada avalia de forma mais rigorosa e realista a capacidade de generalização do modelo.\n",
        "\n",
        "O desvio padrão foi baixo e indica que os scores da validação cruzada estão próximos da média. Isso sugere que o desempenho do modelo é consistente entre os diferentes folds da validação cruzada.\n",
        "\n",
        "Uma menor dispersão sugere uma performance mais estável do modelo.\n",
        "\n",
        "Os atrubutos mais importantes para a o modelo preditivo criado foram 'duration'(duração do contato) e 'poutcome' (resultado da campanha anterior)."
      ],
      "metadata": {
        "id": "lXZAuc8xosrK"
      }
    }
  ]
}